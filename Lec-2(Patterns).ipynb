{
 "cells": [
  {
   "cell_type": "code",
   "execution_count": 5,
   "id": "a596c45a",
   "metadata": {},
   "outputs": [
    {
     "name": "stdout",
     "output_type": "stream",
     "text": [
      "*****\n",
      "*****\n",
      "*****\n",
      "*****\n",
      "*****\n"
     ]
    }
   ],
   "source": [
    "n = 5\n",
    "for i in range(n):\n",
    "    for j in range(n):\n",
    "        print(\"*\", end=\"\")\n",
    "    print()"
   ]
  },
  {
   "cell_type": "code",
   "execution_count": 8,
   "id": "b213d2cc",
   "metadata": {},
   "outputs": [
    {
     "name": "stdout",
     "output_type": "stream",
     "text": [
      "*\n",
      "**\n",
      "***\n",
      "****\n",
      "*****\n"
     ]
    }
   ],
   "source": [
    "row = 5\n",
    "stars = 1 \n",
    "for i in range(n):\n",
    "    for j in range(stars):\n",
    "        print(\"*\", end=\"\")\n",
    "    print()\n",
    "    stars += 1 "
   ]
  },
  {
   "cell_type": "code",
   "execution_count": 9,
   "id": "30b2daf5",
   "metadata": {},
   "outputs": [
    {
     "name": "stdout",
     "output_type": "stream",
     "text": [
      "1\n",
      "22\n",
      "333\n",
      "4444\n",
      "55555\n"
     ]
    }
   ],
   "source": [
    "row = 5\n",
    "stars = 1 \n",
    "for i in range(n):\n",
    "    for j in range(stars):\n",
    "        print(stars, end=\"\")\n",
    "    print()\n",
    "    stars += 1 "
   ]
  },
  {
   "cell_type": "code",
   "execution_count": 13,
   "id": "54681caf",
   "metadata": {},
   "outputs": [
    {
     "name": "stdout",
     "output_type": "stream",
     "text": [
      "1\n",
      "12\n",
      "123\n",
      "1234\n",
      "12345\n"
     ]
    }
   ],
   "source": [
    "row = 5\n",
    "stars = 1 \n",
    "for i in range(n):\n",
    "    for j in range(stars):\n",
    "        print(j+1, end=\"\")\n",
    "    print()\n",
    "    stars += 1 \n",
    "# row = 5\n",
    "# stars = 1 \n",
    "# for i in range(n):\n",
    "#     num = 1\n",
    "#     for j in range(stars):\n",
    "#         print(num, end=\"\")\n",
    "#         num += 1\n",
    "#     print()\n",
    "#     stars += 1 "
   ]
  },
  {
   "cell_type": "code",
   "execution_count": 14,
   "id": "decef8bc",
   "metadata": {},
   "outputs": [
    {
     "name": "stdout",
     "output_type": "stream",
     "text": [
      "*****\n",
      "****\n",
      "***\n",
      "**\n",
      "*\n"
     ]
    }
   ],
   "source": [
    "row = 5\n",
    "stars = 5 \n",
    "for i in range(n):\n",
    "    for j in range(stars):\n",
    "        print(\"*\", end=\"\")\n",
    "    print()\n",
    "    stars -= 1 "
   ]
  },
  {
   "cell_type": "code",
   "execution_count": 16,
   "id": "51405da8",
   "metadata": {},
   "outputs": [
    {
     "name": "stdout",
     "output_type": "stream",
     "text": [
      "12345\n",
      "1234\n",
      "123\n",
      "12\n",
      "1\n"
     ]
    }
   ],
   "source": [
    "row = 5\n",
    "stars = 5 \n",
    "for i in range(n):\n",
    "    for j in range(stars):\n",
    "        print(j+1, end=\"\")\n",
    "    print()\n",
    "    stars -= 1 "
   ]
  },
  {
   "cell_type": "code",
   "execution_count": 27,
   "id": "40270469",
   "metadata": {},
   "outputs": [
    {
     "name": "stdout",
     "output_type": "stream",
     "text": [
      "     *\n",
      "    ***\n",
      "   *****\n",
      "  *******\n",
      " *********\n"
     ]
    }
   ],
   "source": [
    "row = 5\n",
    "stars = 1\n",
    "space = 5\n",
    "for i in range(n):\n",
    "    for k in range (space):\n",
    "        print(\" \", end=\"\")\n",
    "    for j in range(stars):\n",
    "        print(\"*\", end=\"\")\n",
    "    print(\"\")\n",
    "    stars += 2\n",
    "    space -= 1 \n",
    "     "
   ]
  },
  {
   "cell_type": "code",
   "execution_count": 28,
   "id": "c8490bd6",
   "metadata": {},
   "outputs": [
    {
     "name": "stdout",
     "output_type": "stream",
     "text": [
      "     *\n",
      "    ***\n",
      "   *****\n",
      "  *******\n",
      " *********\n"
     ]
    }
   ],
   "source": [
    "row = 5\n",
    "stars = 1\n",
    "space = 5\n",
    "for i in range(n):\n",
    "    for k in range (space):\n",
    "        print(\" \", end=\"\")\n",
    "    for j in range(stars):\n",
    "        print(\"*\", end=\"\")\n",
    "    print(\"\")\n",
    "    stars += 2\n",
    "    space -= 1 \n",
    "     "
   ]
  },
  {
   "cell_type": "code",
   "execution_count": 29,
   "id": "ceac8505",
   "metadata": {},
   "outputs": [
    {
     "name": "stdout",
     "output_type": "stream",
     "text": [
      "     *\n",
      "    ***\n",
      "   *****\n",
      "  *******\n",
      " *********\n"
     ]
    }
   ],
   "source": [
    "row = 5\n",
    "stars = 1\n",
    "space = 5\n",
    "for i in range(n):\n",
    "    for k in range (space):\n",
    "        print(\" \", end=\"\")\n",
    "    for j in range(stars):\n",
    "        print(\"*\", end=\"\")\n",
    "    print(\"\")\n",
    "    stars += 2\n",
    "    space -= 1 "
   ]
  },
  {
   "cell_type": "code",
   "execution_count": 31,
   "id": "55ccfb4e",
   "metadata": {},
   "outputs": [
    {
     "name": "stdout",
     "output_type": "stream",
     "text": [
      "     *********\n",
      "      *******\n",
      "       *****\n",
      "        ***\n",
      "         *\n"
     ]
    }
   ],
   "source": [
    "row = 5\n",
    "stars = row *2-1\n",
    "space = 5\n",
    "for i in range(n):\n",
    "    for k in range (space):\n",
    "        print(\" \", end=\"\")\n",
    "    for j in range(stars):\n",
    "        print(\"*\", end=\"\")\n",
    "    print(\"\")\n",
    "    stars -= 2\n",
    "    space += 1 "
   ]
  },
  {
   "cell_type": "code",
   "execution_count": 32,
   "id": "7e8bdebf",
   "metadata": {},
   "outputs": [
    {
     "name": "stdout",
     "output_type": "stream",
     "text": [
      "*\n",
      "**\n",
      "***\n",
      "****\n",
      "*****\n"
     ]
    }
   ],
   "source": [
    "row = 5\n",
    "stars = 1 \n",
    "for i in range(n):\n",
    "    for j in range(stars):\n",
    "        print(\"*\", end=\"\")\n",
    "    print()\n",
    "    stars += 1 "
   ]
  },
  {
   "cell_type": "code",
   "execution_count": null,
   "id": "26664018",
   "metadata": {},
   "outputs": [],
   "source": []
  }
 ],
 "metadata": {
  "kernelspec": {
   "display_name": "Python 3",
   "language": "python",
   "name": "python3"
  },
  "language_info": {
   "codemirror_mode": {
    "name": "ipython",
    "version": 3
   },
   "file_extension": ".py",
   "mimetype": "text/x-python",
   "name": "python",
   "nbconvert_exporter": "python",
   "pygments_lexer": "ipython3",
   "version": "3.11.9"
  }
 },
 "nbformat": 4,
 "nbformat_minor": 5
}
